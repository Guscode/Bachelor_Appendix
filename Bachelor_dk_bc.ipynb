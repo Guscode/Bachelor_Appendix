{
  "nbformat": 4,
  "nbformat_minor": 0,
  "metadata": {
    "accelerator": "GPU",
    "colab": {
      "name": "Bachelor_dk_bc.ipynb",
      "provenance": [],
      "collapsed_sections": [],
      "toc_visible": true,
      "machine_shape": "hm"
    },
    "kernelspec": {
      "display_name": "Python 3",
      "name": "python3"
    }
  },
  "cells": [
    {
      "cell_type": "code",
      "metadata": {
        "id": "x4giRzM7NtHJ"
      },
      "source": [
        "!pip install simpletransformers\n",
        "\n",
        "import numpy as np\n",
        "import pandas as pd\n",
        "\n",
        "import torch\n",
        "import torch.nn as nn\n",
        "\n",
        "from simpletransformers.ner import NERModel\n",
        "from simpletransformers.classification import ClassificationModel\n"
      ],
      "execution_count": null,
      "outputs": []
    },
    {
      "cell_type": "markdown",
      "metadata": {
        "id": "kKd-Tj3hOMsZ"
      },
      "source": [
        "# Load Dataset"
      ]
    },
    {
      "cell_type": "code",
      "metadata": {
        "colab": {
          "base_uri": "https://localhost:8080/"
        },
        "id": "Bdbp5kg9nKgu",
        "outputId": "53df7b5d-a25a-45b8-be4a-d792c5f2b4d4"
      },
      "source": [
        "from google.colab import drive\n",
        "drive.mount(\"/content/drive\")\n",
        "cols = [\"text\",\"label\"]\n",
        "df = pd.read_csv(\n",
        "    \"/content/drive/MyDrive/Bachelor/df_DK.csv\",\n",
        "    header=0,\n",
        "    engine=\"python\",\n",
        "    encoding=\"UTF-8\"\n",
        ")\n",
        "df = df[[\"Transcription\", \"Backchannel\", \".folds\", \"index\"]]\n",
        "df.columns = [\"text\", \"label\", \"fold\", \"num\"]"
      ],
      "execution_count": null,
      "outputs": [
        {
          "output_type": "stream",
          "text": [
            "Mounted at /content/drive\n"
          ],
          "name": "stdout"
        }
      ]
    },
    {
      "cell_type": "code",
      "metadata": {
        "id": "NdL8We9b_J5D"
      },
      "source": [
        "device = torch.device(\"cuda\")"
      ],
      "execution_count": null,
      "outputs": []
    },
    {
      "cell_type": "code",
      "metadata": {
        "colab": {
          "base_uri": "https://localhost:8080/"
        },
        "id": "dPPFH8PHZgmf",
        "outputId": "329c60b5-bf2e-4501-a58c-a8a69f6d01a7"
      },
      "source": [
        "n_labels = len(df['label'].unique())\n",
        "\n",
        "# initialize the model\n",
        "sent_model = ClassificationModel('bert', \"/content/drive/My Drive/danish_bert_uncased_v2/\",\n",
        "                                 num_labels=n_labels, use_cuda=True,\n",
        "                                 args={'reprocess_input_data': True, 'overwrite_output_dir': True,\n",
        "                                       \"num_train_epochs\": 2, 'max_seq_length': 32})"
      ],
      "execution_count": null,
      "outputs": [
        {
          "output_type": "stream",
          "text": [
            "Some weights of the model checkpoint at /content/drive/My Drive/danish_bert_uncased_v2/ were not used when initializing BertForSequenceClassification: ['cls.predictions.bias', 'cls.predictions.transform.dense.weight', 'cls.predictions.transform.dense.bias', 'cls.predictions.transform.LayerNorm.weight', 'cls.predictions.transform.LayerNorm.bias', 'cls.predictions.decoder.weight', 'cls.predictions.decoder.bias', 'cls.seq_relationship.weight', 'cls.seq_relationship.bias']\n",
            "- This IS expected if you are initializing BertForSequenceClassification from the checkpoint of a model trained on another task or with another architecture (e.g. initializing a BertForSequenceClassification model from a BertForPreTraining model).\n",
            "- This IS NOT expected if you are initializing BertForSequenceClassification from the checkpoint of a model that you expect to be exactly identical (initializing a BertForSequenceClassification model from a BertForSequenceClassification model).\n",
            "Some weights of BertForSequenceClassification were not initialized from the model checkpoint at /content/drive/My Drive/danish_bert_uncased_v2/ and are newly initialized: ['classifier.weight', 'classifier.bias']\n",
            "You should probably TRAIN this model on a down-stream task to be able to use it for predictions and inference.\n"
          ],
          "name": "stderr"
        }
      ]
    },
    {
      "cell_type": "code",
      "metadata": {
        "id": "W7BxZLN9V4Cn"
      },
      "source": [
        "prs = [i for i in df['fold'].unique()]"
      ],
      "execution_count": null,
      "outputs": []
    },
    {
      "cell_type": "code",
      "metadata": {
        "id": "653o7g2nH_-H"
      },
      "source": [
        "prs=[3, 1, 2,4,8, 6, 7, 5, 10, 9]"
      ],
      "execution_count": null,
      "outputs": []
    },
    {
      "cell_type": "code",
      "metadata": {
        "id": "EiKFZjUvHXcc"
      },
      "source": [
        "import sklearn\n",
        "from sklearn.model_selection import train_test_split\n",
        "from sklearn.metrics import classification_report"
      ],
      "execution_count": null,
      "outputs": []
    },
    {
      "cell_type": "code",
      "metadata": {
        "id": "_3eS_aLxW9Qr"
      },
      "source": [
        "for i in prs:\n",
        "  testdata = df[df[\"fold\"] == i]\n",
        "  traindata = df[df[\"fold\"]!=i]\n",
        "  sent_model.train_model(traindata)\n",
        "\n",
        "  result, model_outputs, wrong_predictions = sent_model.eval_model(testdata, acc=sklearn.metrics.accuracy_score)\n",
        "\n",
        "  testdata.index = [i for i in range(len(testdata.text))]\n",
        "\n",
        "  predictions, raw_outputs = sent_model.predict(testdata.text)\n",
        "  df_res = pd.DataFrame(list(zip(testdata.num, predictions)), \n",
        "               columns =['index', 'bert_preds'])\n",
        "  filename = [str(i), \"fold\", \"df.csv\"]\n",
        "  df_res.to_csv(\"_\".join(filename))\n",
        "  "
      ],
      "execution_count": null,
      "outputs": []
    }
  ]
}