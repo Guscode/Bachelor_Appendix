{
  "nbformat": 4,
  "nbformat_minor": 0,
  "metadata": {
    "accelerator": "GPU",
    "colab": {
      "name": "Bachelor_no_bc.ipynb",
      "provenance": [],
      "collapsed_sections": [],
      "toc_visible": true,
      "machine_shape": "hm"
    },
    "kernelspec": {
      "display_name": "Python 3",
      "name": "python3"
    }
  },
  "cells": [
    {
      "cell_type": "code",
      "metadata": {
        "id": "x4giRzM7NtHJ"
      },
      "source": [
        "!pip install simpletransformers\n",
        "\n",
        "import numpy as np\n",
        "import pandas as pd\n",
        "\n",
        "import torch\n",
        "import torch.nn as nn\n",
        "\n",
        "from simpletransformers.ner import NERModel\n",
        "from simpletransformers.classification import ClassificationModel\n"
      ],
      "execution_count": null,
      "outputs": []
    },
    {
      "cell_type": "markdown",
      "metadata": {
        "id": "kKd-Tj3hOMsZ"
      },
      "source": [
        "# Load Dataset"
      ]
    },
    {
      "cell_type": "code",
      "metadata": {
        "colab": {
          "base_uri": "https://localhost:8080/"
        },
        "id": "Bdbp5kg9nKgu",
        "outputId": "8689ba2d-0779-4cdb-eced-867b73e47f33"
      },
      "source": [
        "from google.colab import drive\n",
        "drive.mount(\"/content/drive\")\n",
        "cols = [\"text\",\"label\"]\n",
        "df = pd.read_csv(\n",
        "    \"/content/drive/MyDrive/Bachelor/df_NO.csv\",\n",
        "    header=0,\n",
        "    engine=\"python\",\n",
        "    encoding=\"UTF-8\"\n",
        ")\n",
        "df = df[[\"Transcription\", \"Backchannel\", \".folds\", \"index\"]]\n",
        "df.columns = [\"text\", \"label\", \"fold\", \"num\"]"
      ],
      "execution_count": null,
      "outputs": [
        {
          "output_type": "stream",
          "text": [
            "Mounted at /content/drive\n"
          ],
          "name": "stdout"
        }
      ]
    },
    {
      "cell_type": "code",
      "metadata": {
        "id": "NdL8We9b_J5D"
      },
      "source": [
        "device = torch.device(\"cuda\")"
      ],
      "execution_count": null,
      "outputs": []
    },
    {
      "cell_type": "code",
      "metadata": {
        "id": "h1rBQXKmPDC_"
      },
      "source": [
        "prs = [1,2,3,4,5,6,7,8,9,10]"
      ],
      "execution_count": null,
      "outputs": []
    },
    {
      "cell_type": "code",
      "metadata": {
        "id": "KeOmeq3UMTbz"
      },
      "source": [
        "import sklearn\n",
        "from sklearn.model_selection import train_test_split\n",
        "from sklearn.metrics import classification_report"
      ],
      "execution_count": null,
      "outputs": []
    },
    {
      "cell_type": "code",
      "metadata": {
        "id": "PoJ1pf7eMVKW"
      },
      "source": [
        "for i in prs:\n",
        "  testdata = df[df[\"fold\"] == i]\n",
        "  traindata = df[df[\"fold\"]!=i]\n",
        "\n",
        "  n_labels = len(df['label'].unique())\n",
        "\n",
        "  # initialize the model\n",
        "  sent_model = ClassificationModel('bert', \"ViktorAlm/electra-base-norwegian-uncased-discriminator\",\n",
        "                                 num_labels=n_labels, use_cuda=True,\n",
        "                                 args={'reprocess_input_data': True, 'overwrite_output_dir': True,\n",
        "                                       \"num_train_epochs\": 10, 'max_seq_length': 32})\n",
        "  sent_model.train_model(traindata)\n",
        "\n",
        "  result, model_outputs, wrong_predictions = sent_model.eval_model(testdata, acc=sklearn.metrics.accuracy_score)\n",
        "\n",
        "  testdata.index = [i for i in range(len(testdata.text))]\n",
        "\n",
        "  predictions, raw_outputs = sent_model.predict(testdata.text)\n",
        "  print(pd.crosstab(testdata.label, predictions))\n",
        "  df_res = pd.DataFrame(list(zip(testdata.num, predictions)), \n",
        "               columns =['index', 'bert_preds'])\n",
        "  filename = [str(i), \"fold\", \"_NO_df.csv\"]\n",
        "  df_res.to_csv(\"_\".join(filename))\n",
        "  "
      ],
      "execution_count": null,
      "outputs": []
    }
  ]
}